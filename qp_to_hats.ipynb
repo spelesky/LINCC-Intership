{
 "cells": [
  {
   "cell_type": "markdown",
   "id": "6f6d74af-6a55-48f0-8183-4bde6aa3ae0a",
   "metadata": {},
   "source": [
    "# QP Ensemble to Nested Pandas Dataframes to LSDB HATS to QP Ensemble"
   ]
  },
  {
   "cell_type": "markdown",
   "id": "f5cc5239-ce22-4a66-998a-48dc185881af",
   "metadata": {},
   "source": [
    "## Modules"
   ]
  },
  {
   "cell_type": "code",
   "execution_count": null,
   "id": "fa5974e0-850d-47a4-81eb-17e039f6ec88",
   "metadata": {},
   "outputs": [],
   "source": [
    "import convert_ens\n",
    "import numpy as np\n",
    "import qp\n",
    "import pickle\n",
    "import pandas as pd\n",
    "import lsdb \n",
    "import nested_pandas as npd\n",
    "from nested_pandas.nestedframe import NestedFrame\n",
    "from rail.core.stage import RailStage\n",
    "from rail.core.data import QPHandle, TableHandle, QPOrTableHandle, ModelHandle\n",
    "\n",
    "%matplotlib inline "
   ]
  },
  {
   "cell_type": "markdown",
   "id": "a948dd77",
   "metadata": {},
   "source": [
    "## Rail Stage Setup"
   ]
  },
  {
   "cell_type": "code",
   "execution_count": 11,
   "id": "61b67d28-a6aa-4c02-863d-1b8c88aeac87",
   "metadata": {},
   "outputs": [],
   "source": [
    "DS = RailStage.data_store\n",
    "DS.__class__.allow_overwrite = True"
   ]
  },
  {
   "cell_type": "markdown",
   "id": "9b27e26b",
   "metadata": {},
   "source": [
    "## QP Ensemble to Nested Pandas Dataframes\n",
    "##### Converts a qp.Ensemble into a single pandas.DataFrame where each row corresponds to an object and each column contains nested ensemble data in dictionary form, suitable for HATS processing. \n",
    "##### It uses convert_ens to generate multiple NestedFrame representations of the ensemble (e.g., histogram, quantiles, interpolated), then flattens and organizes this data into a structured, object-wise DataFrame for easy analysis or storage."
   ]
  },
  {
   "cell_type": "code",
   "execution_count": null,
   "id": "684031c2",
   "metadata": {},
   "outputs": [],
   "source": [
    "def ens_to_df(ens, algo):\n",
    "    \"\"\"\n",
    "    Convert a qp.Ensemble into a single pandas DataFrame using nested-pandas format.\n",
    "    \"\"\"\n",
    "    # Get the converted ensembles using the new convert_ens function\n",
    "    converted_ensembles = convert_ens.convert_ens(ens, algo)\n",
    "    \n",
    "    # Create a base DataFrame with one row per object\n",
    "    n_objects = len(next(iter(converted_ensembles.values())))\n",
    "    df = pd.DataFrame(index=range(n_objects))\n",
    "    \n",
    "    # For each ensemble type, store the nested data in a way that HATS can handle\n",
    "    for ensemble_name, nested_frame in converted_ensembles.items():\n",
    "        series_data = []\n",
    "        \n",
    "        # The nested_frame should have nested columns containing the actual data\n",
    "        if nested_frame.nested_columns:\n",
    "            nested_col_name = nested_frame.nested_columns[0]\n",
    "            \n",
    "            # For each object (row in the base frame)\n",
    "            for obj_id in range(n_objects):\n",
    "                if obj_id < len(nested_frame):\n",
    "                    # Get the nested data for this object\n",
    "                    nested_data = nested_frame[nested_col_name].iloc[obj_id]\n",
    "                    \n",
    "                    # Convert the nested DataFrame to a dictionary\n",
    "                    if hasattr(nested_data, 'to_dict'):\n",
    "                        obj_dict = nested_data.to_dict('list')\n",
    "                    elif isinstance(nested_data, dict):\n",
    "                        obj_dict = nested_data\n",
    "                    else:\n",
    "                        # Try to convert to dict some other way\n",
    "                        obj_dict = dict(nested_data) if nested_data is not None else {}\n",
    "                    \n",
    "                    series_data.append(obj_dict)\n",
    "                else:\n",
    "                    series_data.append({})\n",
    "        else:\n",
    "            # If no nested columns, create empty dicts\n",
    "            series_data = [{}] * n_objects\n",
    "        \n",
    "        df[ensemble_name] = series_data\n",
    "    \n",
    "    return df"
   ]
  },
  {
   "cell_type": "markdown",
   "id": "83bc50a7",
   "metadata": {},
   "source": [
    "## Nested Pandas Dataframes to LSDB HATS\n",
    "##### Converts a pandas.DataFrame into a HATS-compatible LSDB catalog and saves it to disk. \n",
    "##### It initializes the catalog using spatial coordinates (coord_ra, coord_dec) and a specified name, sets multipole orders (lowest_order=2, highest_order=5), and exports the catalog in HATS format. \n",
    "##### The function returns the resulting catalog object for further use."
   ]
  },
  {
   "cell_type": "code",
   "execution_count": 15,
   "id": "de8a39d5",
   "metadata": {},
   "outputs": [],
   "source": [
    "def df_to_hats(df, name):\n",
    "    '''\n",
    "    Convert a pandas DataFrame into a HATS-compatible LSDB catalog and save it to disk.\n",
    "    '''\n",
    "    catalog = lsdb.from_dataframe(\n",
    "    df,\n",
    "    ra_column=\"coord_ra\",\n",
    "    dec_column=\"coord_dec\",\n",
    "    catalog_name=name,\n",
    "    catalog_type=\"object\",\n",
    "    lowest_order=2,\n",
    "    highest_order=5,\n",
    "    threshold=len(df))\n",
    "    catalog.to_hats(name, overwrite=True)\n",
    "    from_dataframe_catalog = lsdb.open_catalog(name)\n",
    "    return catalog"
   ]
  },
  {
   "cell_type": "markdown",
   "id": "24591b2f",
   "metadata": {},
   "source": [
    "## LSDB HATS to QP Ensemble\n",
    "##### Loads a HATS-formatted LSDB catalog from a given file path and reconstructs a dictionary of qp.Ensemble objects from its contents. \n",
    "##### Based on the key suffix (e.g., interp, mixmod, norm, hist, or quantile lengths like 99, 20, 5), it parses the nested data fields and rebuilds each ensemble using the appropriate qp generator. \n",
    "##### Returns a dictionary mapping each key to its corresponding ensemble."
   ]
  },
  {
   "cell_type": "code",
   "execution_count": 16,
   "id": "6589c2b3",
   "metadata": {},
   "outputs": [],
   "source": [
    "def hats_to_qp(file_path):\n",
    "    '''\n",
    "    Load a HATS-formatted LSDB catalog and reconstruct qp.Ensemble objects from its contents.\n",
    "    '''\n",
    "    from_dataframe_catalog = lsdb.open_catalog(file_path)\n",
    "    df = from_dataframe_catalog.compute()\n",
    "    ensembles = {}\n",
    "    for key in df.keys():\n",
    "        parts = key.split('_')\n",
    "        data_dict = {}\n",
    "        if parts[-1] == 'interp':\n",
    "            yvals = []\n",
    "            for i in df[key]:\n",
    "                yvals.append(i['yvals'])\n",
    "            data_dict['yvals'] = yvals\n",
    "            data_dict['xvals'] = i['xvals']\n",
    "            ensembles[key] = qp.Ensemble(qp.interp_gen, data=data_dict)\n",
    "        if parts[-1] == 'mixmod':\n",
    "            weights = []\n",
    "            stds = []\n",
    "            means = []\n",
    "            for i in df[key]:\n",
    "                weights.append(i['weights'])\n",
    "                stds.append(i['stds'])\n",
    "                means.append(i['means'])\n",
    "            data_dict['means'] = np.array(means)\n",
    "            data_dict['stds'] = np.array(stds)\n",
    "            data_dict['weights'] = np.array(weights)\n",
    "            ensembles[key] = qp.Ensemble(qp.mixmod_gen, data=data_dict)\n",
    "        if parts[-1] == 'norm':\n",
    "            loc = []\n",
    "            scale = []\n",
    "            for i in df[key]:\n",
    "                loc.append(i['loc'])\n",
    "                scale.append(i['scale'])\n",
    "            data_dict['loc'] = np.array(loc)\n",
    "            data_dict['scale'] = np.array(scale)\n",
    "            ensembles[key] = qp.Ensemble(qp.stats.norm, data=data_dict)\n",
    "        if parts[-1] == 'hist':\n",
    "            pdfs = []\n",
    "            for i in df[key]:\n",
    "                pdfs.append(i['pdfs'])\n",
    "            data_dict['pdfs'] = np.array(pdfs)\n",
    "            data_dict['bins'] = np.linspace(0, 3, 301)\n",
    "            ensembles[key] = qp.Ensemble(qp.hist_gen, data=data_dict)\n",
    "        if parts[-1] == '99' or parts[-1] == '20' or parts[-1] == '5':\n",
    "            locs = []\n",
    "            for i in df[key]:\n",
    "                locs.append(i['locs'])\n",
    "            data_dict['locs'] = np.array(locs)\n",
    "            data_dict['quants'] = np.array(i['quants'])\n",
    "            ensembles[key] = qp.Ensemble(qp.quant_gen, data=data_dict)\n",
    "    return ensembles    "
   ]
  },
  {
   "cell_type": "markdown",
   "id": "bdbb571a",
   "metadata": {},
   "source": [
    "# DP1 Example"
   ]
  },
  {
   "cell_type": "markdown",
   "id": "a38dc0e3",
   "metadata": {},
   "source": [
    "##### 4 Band Data"
   ]
  },
  {
   "cell_type": "code",
   "execution_count": 17,
   "id": "ababae9c",
   "metadata": {},
   "outputs": [],
   "source": [
    "# Change file path\n",
    "bpz_file = '/Users/sarahpelesky/Desktop/LINCC Internship/RAIL/Projects (RAIL)/sarah_data/4bands/output_estimate_bpz.hdf5'\n",
    "cmnn_file = '/Users/sarahpelesky/Desktop/LINCC Internship/RAIL/Projects (RAIL)/sarah_data/4bands/output_estimate_cmnn.hdf5'\n",
    "dnf_file = '/Users/sarahpelesky/Desktop/LINCC Internship/RAIL/Projects (RAIL)/sarah_data/4bands/output_estimate_dnf.hdf5'\n",
    "fzboost_file = '/Users/sarahpelesky/Desktop/LINCC Internship/RAIL/Projects (RAIL)/sarah_data/4bands/output_estimate_fzboost.hdf5'\n",
    "knn_file = '/Users/sarahpelesky/Desktop/LINCC Internship/RAIL/Projects (RAIL)/sarah_data/4bands/output_estimate_knn.hdf5'\n",
    "lephare_file = '/Users/sarahpelesky/Desktop/LINCC Internship/RAIL/Projects (RAIL)/sarah_data/4bands/output_estimate_lephare.hdf5'\n",
    "tpz_file = '/Users/sarahpelesky/Desktop/LINCC Internship/RAIL/Projects (RAIL)/sarah_data/4bands/output_estimate_tpz.hdf5'\n",
    "outputFiles_4bands = {'bpz_file': bpz_file, 'cmnn_file': cmnn_file, 'dnf_file': dnf_file,\n",
    "                      'fzboost_file': fzboost_file, 'knn_file': knn_file, 'lephare_file': lephare_file, \n",
    "                      'tpz_file': tpz_file}\n",
    "algos = ['bpz', 'cmnn', 'dnf', 'fzboost', 'knn', 'lephare', 'tpz']\n",
    "df = pd.read_parquet('/Users/sarahpelesky/Downloads/dp1_ecdfs_edfs_sv95_sv37_v1.parquet')\n",
    "df_subset = pd.read_parquet('/Users/sarahpelesky/Desktop/LINCC Internship/RAIL/Projects (RAIL)/sarah_data/4bands/dp1_v29.0.0_gold_Rubin_SV_38_7_photoz_cat.parquet')\n",
    "new_df = pd.merge(df_subset, df, on='objectId', how='left', suffixes=('_subset', '_full'))"
   ]
  },
  {
   "cell_type": "markdown",
   "id": "db56874f",
   "metadata": {},
   "source": [
    "#### BPZ Example"
   ]
  },
  {
   "cell_type": "code",
   "execution_count": 18,
   "id": "d8a5f8fa",
   "metadata": {},
   "outputs": [
    {
     "name": "stderr",
     "output_type": "stream",
     "text": [
      "/Users/sarahpelesky/Desktop/LINCC Internship/RAIL/qp/src/qp/parameterizations/hist/hist.py:140: RuntimeWarning: There are negative values in the pdfs for the distributions: [15124]\n",
      "  warnings.warn(\n"
     ]
    },
    {
     "name": "stdout",
     "output_type": "stream",
     "text": [
      "here\n",
      "Successfully created bpz_ens_interp_to_quant_99\n",
      "here\n",
      "Successfully created bpz_ens_interp_to_quant_20\n",
      "here\n",
      "Successfully created bpz_ens_interp_to_quant_5\n"
     ]
    },
    {
     "name": "stderr",
     "output_type": "stream",
     "text": [
      "/Users/sarahpelesky/miniforge3/envs/rail_env2/lib/python3.13/site-packages/scipy/stats/_distn_infrastructure.py:1451: RuntimeWarning: invalid value encountered in sqrt\n",
      "  res = sqrt(self.stats(*args, **kwds))\n"
     ]
    },
    {
     "name": "stdout",
     "output_type": "stream",
     "text": [
      "Done converting.\n"
     ]
    },
    {
     "data": {
      "text/html": [
       "<div>\n",
       "<style scoped>\n",
       "    .dataframe tbody tr th:only-of-type {\n",
       "        vertical-align: middle;\n",
       "    }\n",
       "\n",
       "    .dataframe tbody tr th {\n",
       "        vertical-align: top;\n",
       "    }\n",
       "\n",
       "    .dataframe thead th {\n",
       "        text-align: right;\n",
       "    }\n",
       "</style>\n",
       "<table border=\"1\" class=\"dataframe\">\n",
       "  <thead>\n",
       "    <tr style=\"text-align: right;\">\n",
       "      <th></th>\n",
       "      <th>bpz_ens_interp</th>\n",
       "      <th>bpz_ens_interp_to_hist</th>\n",
       "      <th>bpz_ens_interp_to_quant_99</th>\n",
       "      <th>bpz_ens_interp_to_quant_20</th>\n",
       "      <th>bpz_ens_interp_to_quant_5</th>\n",
       "      <th>bpz_ens_interp_to_norm</th>\n",
       "      <th>coord_ra</th>\n",
       "      <th>coord_dec</th>\n",
       "    </tr>\n",
       "  </thead>\n",
       "  <tbody>\n",
       "    <tr>\n",
       "      <th>0</th>\n",
       "      <td>{'yvals': [0.0, 0.05513663978250978, 0.1068442...</td>\n",
       "      <td>{'pdfs': [0.02756831989125489, 0.0809904364631...</td>\n",
       "      <td>{'locs': [0.037283232580966996, 0.061513217592...</td>\n",
       "      <td>{'locs': [0.04591148831496429, 0.0615132175920...</td>\n",
       "      <td>{'locs': [0.05313888364411205, 0.0615132175920...</td>\n",
       "      <td>{'loc': [0.42742514450305613], 'scale': [0.358...</td>\n",
       "      <td>37.691623</td>\n",
       "      <td>7.384259</td>\n",
       "    </tr>\n",
       "    <tr>\n",
       "      <th>1</th>\n",
       "      <td>{'yvals': [0.0, 0.0, 0.0, 0.0, 0.0, 0.0, 0.0, ...</td>\n",
       "      <td>{'pdfs': [0.0, 0.0, 0.0, 0.0, 0.0, 0.0, 0.0, 0...</td>\n",
       "      <td>{'locs': [0.6537138438429267, 0.68143610109248...</td>\n",
       "      <td>{'locs': [0.6673293784597863, 0.68143610109248...</td>\n",
       "      <td>{'locs': [0.6761759467206362, 0.68143610109248...</td>\n",
       "      <td>{'loc': [0.9007582468804702], 'scale': [0.1842...</td>\n",
       "      <td>37.825903</td>\n",
       "      <td>7.384505</td>\n",
       "    </tr>\n",
       "    <tr>\n",
       "      <th>...</th>\n",
       "      <td>...</td>\n",
       "      <td>...</td>\n",
       "      <td>...</td>\n",
       "      <td>...</td>\n",
       "      <td>...</td>\n",
       "      <td>...</td>\n",
       "      <td>...</td>\n",
       "      <td>...</td>\n",
       "    </tr>\n",
       "    <tr>\n",
       "      <th>169032</th>\n",
       "      <td>{'yvals': [0.0, 0.05950714207418124, 0.1165122...</td>\n",
       "      <td>{'pdfs': [0.02975357103709062, 0.0880097171943...</td>\n",
       "      <td>{'locs': [0.034157510332403385, 0.060015429903...</td>\n",
       "      <td>{'locs': [0.041979860352284334, 0.060015429903...</td>\n",
       "      <td>{'locs': [0.04960739182574118, 0.0600154299039...</td>\n",
       "      <td>{'loc': [0.5970112416211045], 'scale': [0.4137...</td>\n",
       "      <td>37.408291</td>\n",
       "      <td>7.891881</td>\n",
       "    </tr>\n",
       "    <tr>\n",
       "      <th>169033</th>\n",
       "      <td>{'yvals': [0.0, 0.29417214903714967, 0.5238156...</td>\n",
       "      <td>{'pdfs': [0.14708607451857483, 0.4089939230504...</td>\n",
       "      <td>{'locs': [0.01411907719545967, 0.0271376218298...</td>\n",
       "      <td>{'locs': [0.017641523020463352, 0.027137621829...</td>\n",
       "      <td>{'locs': [0.02061429183617046, 0.0271376218298...</td>\n",
       "      <td>{'loc': [0.45371880592382235], 'scale': [0.440...</td>\n",
       "      <td>37.404037</td>\n",
       "      <td>7.901374</td>\n",
       "    </tr>\n",
       "  </tbody>\n",
       "</table>\n",
       "<p>169034 rows × 8 columns</p>\n",
       "</div>"
      ],
      "text/plain": [
       "                                           bpz_ens_interp  \\\n",
       "0       {'yvals': [0.0, 0.05513663978250978, 0.1068442...   \n",
       "1       {'yvals': [0.0, 0.0, 0.0, 0.0, 0.0, 0.0, 0.0, ...   \n",
       "...                                                   ...   \n",
       "169032  {'yvals': [0.0, 0.05950714207418124, 0.1165122...   \n",
       "169033  {'yvals': [0.0, 0.29417214903714967, 0.5238156...   \n",
       "\n",
       "                                   bpz_ens_interp_to_hist  \\\n",
       "0       {'pdfs': [0.02756831989125489, 0.0809904364631...   \n",
       "1       {'pdfs': [0.0, 0.0, 0.0, 0.0, 0.0, 0.0, 0.0, 0...   \n",
       "...                                                   ...   \n",
       "169032  {'pdfs': [0.02975357103709062, 0.0880097171943...   \n",
       "169033  {'pdfs': [0.14708607451857483, 0.4089939230504...   \n",
       "\n",
       "                               bpz_ens_interp_to_quant_99  \\\n",
       "0       {'locs': [0.037283232580966996, 0.061513217592...   \n",
       "1       {'locs': [0.6537138438429267, 0.68143610109248...   \n",
       "...                                                   ...   \n",
       "169032  {'locs': [0.034157510332403385, 0.060015429903...   \n",
       "169033  {'locs': [0.01411907719545967, 0.0271376218298...   \n",
       "\n",
       "                               bpz_ens_interp_to_quant_20  \\\n",
       "0       {'locs': [0.04591148831496429, 0.0615132175920...   \n",
       "1       {'locs': [0.6673293784597863, 0.68143610109248...   \n",
       "...                                                   ...   \n",
       "169032  {'locs': [0.041979860352284334, 0.060015429903...   \n",
       "169033  {'locs': [0.017641523020463352, 0.027137621829...   \n",
       "\n",
       "                                bpz_ens_interp_to_quant_5  \\\n",
       "0       {'locs': [0.05313888364411205, 0.0615132175920...   \n",
       "1       {'locs': [0.6761759467206362, 0.68143610109248...   \n",
       "...                                                   ...   \n",
       "169032  {'locs': [0.04960739182574118, 0.0600154299039...   \n",
       "169033  {'locs': [0.02061429183617046, 0.0271376218298...   \n",
       "\n",
       "                                   bpz_ens_interp_to_norm   coord_ra  \\\n",
       "0       {'loc': [0.42742514450305613], 'scale': [0.358...  37.691623   \n",
       "1       {'loc': [0.9007582468804702], 'scale': [0.1842...  37.825903   \n",
       "...                                                   ...        ...   \n",
       "169032  {'loc': [0.5970112416211045], 'scale': [0.4137...  37.408291   \n",
       "169033  {'loc': [0.45371880592382235], 'scale': [0.440...  37.404037   \n",
       "\n",
       "        coord_dec  \n",
       "0        7.384259  \n",
       "1        7.384505  \n",
       "...           ...  \n",
       "169032   7.891881  \n",
       "169033   7.901374  \n",
       "\n",
       "[169034 rows x 8 columns]"
      ]
     },
     "execution_count": 18,
     "metadata": {},
     "output_type": "execute_result"
    }
   ],
   "source": [
    "output_data = DS.read_file(\"output_data\", QPHandle, bpz_file)\n",
    "df = ens_to_df(output_data.data, 'bpz')\n",
    "df['coord_ra'] = new_df['coord_ra']\n",
    "df['coord_dec'] = new_df['coord_dec']\n",
    "df"
   ]
  },
  {
   "cell_type": "code",
   "execution_count": 19,
   "id": "877e2059",
   "metadata": {},
   "outputs": [
    {
     "data": {
      "text/html": [
       "<div><strong>lsdb Catalog from_dataframe:</strong></div><div>\n",
       "<style scoped>\n",
       "    .dataframe tbody tr th:only-of-type {\n",
       "        vertical-align: middle;\n",
       "    }\n",
       "\n",
       "    .dataframe tbody tr th {\n",
       "        vertical-align: top;\n",
       "    }\n",
       "\n",
       "    .dataframe thead th {\n",
       "        text-align: right;\n",
       "    }\n",
       "</style>\n",
       "<table border=\"1\" class=\"dataframe\">\n",
       "  <thead>\n",
       "    <tr style=\"text-align: right;\">\n",
       "      <th></th>\n",
       "      <th>bpz_ens_interp</th>\n",
       "      <th>bpz_ens_interp_to_hist</th>\n",
       "      <th>bpz_ens_interp_to_quant_99</th>\n",
       "      <th>bpz_ens_interp_to_quant_20</th>\n",
       "      <th>bpz_ens_interp_to_quant_5</th>\n",
       "      <th>bpz_ens_interp_to_norm</th>\n",
       "      <th>coord_ra</th>\n",
       "      <th>coord_dec</th>\n",
       "    </tr>\n",
       "    <tr>\n",
       "      <th>npartitions=2</th>\n",
       "      <th></th>\n",
       "      <th></th>\n",
       "      <th></th>\n",
       "      <th></th>\n",
       "      <th></th>\n",
       "      <th></th>\n",
       "      <th></th>\n",
       "      <th></th>\n",
       "    </tr>\n",
       "  </thead>\n",
       "  <tbody>\n",
       "    <tr>\n",
       "      <th>Order: 3, Pixel: 2</th>\n",
       "      <td>struct&lt;xvals: list&lt;item: double&gt;, yvals: list&lt;...</td>\n",
       "      <td>struct&lt;bins: list&lt;item: double&gt;, pdfs: list&lt;it...</td>\n",
       "      <td>struct&lt;locs: list&lt;item: double&gt;, quants: list&lt;...</td>\n",
       "      <td>struct&lt;locs: list&lt;item: double&gt;, quants: list&lt;...</td>\n",
       "      <td>struct&lt;locs: list&lt;item: double&gt;, quants: list&lt;...</td>\n",
       "      <td>struct&lt;loc: list&lt;item: double&gt;, scale: list&lt;it...</td>\n",
       "      <td>double[pyarrow]</td>\n",
       "      <td>double[pyarrow]</td>\n",
       "    </tr>\n",
       "    <tr>\n",
       "      <th>Order: 5, Pixel: 4471</th>\n",
       "      <td>...</td>\n",
       "      <td>...</td>\n",
       "      <td>...</td>\n",
       "      <td>...</td>\n",
       "      <td>...</td>\n",
       "      <td>...</td>\n",
       "      <td>...</td>\n",
       "      <td>...</td>\n",
       "    </tr>\n",
       "  </tbody>\n",
       "</table>\n",
       "</div><div>8 out of 8 columns in the catalog have been loaded <strong>lazily</strong>, meaning no data has been read, only the catalog schema</div>"
      ],
      "text/plain": [
       "Dask NestedFrame Structure:\n",
       "                                                                            bpz_ens_interp                                               bpz_ens_interp_to_hist                                             bpz_ens_interp_to_quant_99                                             bpz_ens_interp_to_quant_20                                              bpz_ens_interp_to_quant_5                                               bpz_ens_interp_to_norm         coord_ra        coord_dec\n",
       "npartitions=2                                                                                                                                                                                                                                                                                                                                                                                                                                                                              \n",
       "9007199254740992     struct<xvals: list<item: double>, yvals: list<item: double>>[pyarrow]  struct<bins: list<item: double>, pdfs: list<item: double>>[pyarrow]  struct<locs: list<item: double>, quants: list<item: double>>[pyarrow]  struct<locs: list<item: double>, quants: list<item: double>>[pyarrow]  struct<locs: list<item: double>, quants: list<item: double>>[pyarrow]  struct<loc: list<item: double>, scale: list<item: double>>[pyarrow]  double[pyarrow]  double[pyarrow]\n",
       "1258474620873342976                                                                    ...                                                                  ...                                                                    ...                                                                    ...                                                                    ...                                                                  ...              ...              ...\n",
       "1258756095850053632                                                                    ...                                                                  ...                                                                    ...                                                                    ...                                                                    ...                                                                  ...              ...              ...\n",
       "Dask Name: nestedframe, 3 expressions\n",
       "Expr=MapPartitions(NestedFrame)"
      ]
     },
     "execution_count": 19,
     "metadata": {},
     "output_type": "execute_result"
    }
   ],
   "source": [
    "cat = df_to_hats(df, 'from_dataframe')\n",
    "cat"
   ]
  },
  {
   "cell_type": "code",
   "execution_count": 11,
   "id": "42951a68",
   "metadata": {},
   "outputs": [
    {
     "name": "stderr",
     "output_type": "stream",
     "text": [
      "/Users/sarahpelesky/Desktop/LINCC Internship/RAIL/qp/src/qp/parameterizations/hist/hist.py:140: RuntimeWarning: There are negative values in the pdfs for the distributions: [13253]\n",
      "  warnings.warn(\n"
     ]
    },
    {
     "data": {
      "text/plain": [
       "{'bpz_ens_interp': Ensemble(the_class=interp,shape=(169034, 301)),\n",
       " 'bpz_ens_interp_to_hist': Ensemble(the_class=hist,shape=(169034, 300)),\n",
       " 'bpz_ens_interp_to_quant_99': Ensemble(the_class=quant,shape=(169034, 101)),\n",
       " 'bpz_ens_interp_to_quant_20': Ensemble(the_class=quant,shape=(169034, 22)),\n",
       " 'bpz_ens_interp_to_quant_5': Ensemble(the_class=quant,shape=(169034, 7)),\n",
       " 'bpz_ens_interp_to_norm': Ensemble(the_class=norm,shape=(169034, 1))}"
      ]
     },
     "execution_count": 11,
     "metadata": {},
     "output_type": "execute_result"
    }
   ],
   "source": [
    "d = hats_to_qp('from_dataframe')\n",
    "d"
   ]
  },
  {
   "cell_type": "markdown",
   "id": "38d1fb63",
   "metadata": {},
   "source": [
    "##### 6 Band Data"
   ]
  },
  {
   "cell_type": "code",
   "execution_count": 8,
   "id": "c0ee602f",
   "metadata": {},
   "outputs": [],
   "source": [
    "# Change file path\n",
    "bpz_file = '/Users/sarahpelesky/Desktop/LINCC Internship/RAIL/Projects (RAIL)/nersc_results/dp1_6band/output_estimate_bpz.hdf5'\n",
    "cmnn_file = '/Users/sarahpelesky/Desktop/LINCC Internship/RAIL/Projects (RAIL)/nersc_results/dp1_6band/output_estimate_cmnn.hdf5'\n",
    "dnf_file = '/Users/sarahpelesky/Desktop/LINCC Internship/RAIL/Projects (RAIL)/nersc_results/dp1_6band/output_estimate_dnf.hdf5'\n",
    "fzboost_file = '/Users/sarahpelesky/Desktop/LINCC Internship/RAIL/Projects (RAIL)/nersc_results/dp1_6band/output_estimate_fzboost.hdf5'\n",
    "gpz_file = '/Users/sarahpelesky/Desktop/LINCC Internship/RAIL/Projects (RAIL)/nersc_results/dp1_6band/output_estimate_gpz.hdf5'\n",
    "knn_file = '/Users/sarahpelesky/Desktop/LINCC Internship/RAIL/Projects (RAIL)/nersc_results/dp1_6band/output_estimate_knn.hdf5'\n",
    "lephare_file = '/Users/sarahpelesky/Desktop/LINCC Internship/RAIL/Projects (RAIL)/nersc_results/dp1_6band/output_estimate_lephare.hdf5'\n",
    "tpz_file = '/Users/sarahpelesky/Desktop/LINCC Internship/RAIL/Projects (RAIL)/nersc_results/dp1_6band/output_estimate_tpz.hdf5'\n",
    "outputFiles_4bands = {'bpz_file': bpz_file, 'cmnn_file': cmnn_file, 'dnf_file': dnf_file,\n",
    "                      'fzboost_file': fzboost_file, 'gpz_file': gpz_file, 'knn_file': knn_file, 'lephare_file': lephare_file, \n",
    "                      'tpz_file': tpz_file}\n",
    "algos = ['bpz', 'cmnn', 'dnf', 'fzboost', 'gpz', 'knn', 'lephare', 'tpz']\n",
    "df = pd.read_parquet('/Users/sarahpelesky/Downloads/dp1_ecdfs_edfs_sv95_sv37_v1.parquet')\n",
    "df_subset = pd.read_parquet('/Users/sarahpelesky/Desktop/LINCC Internship/RAIL/Projects (RAIL)/nersc_results/dp1_6band/dp1_v29.0.0_gold_ecdfs_edfs_sv95_photoz_cat.parquet')\n",
    "new_df = pd.merge(df_subset, df, on='objectId', how='left', suffixes=('_subset', '_full'))"
   ]
  },
  {
   "cell_type": "code",
   "execution_count": 9,
   "id": "a0dd30e2",
   "metadata": {},
   "outputs": [
    {
     "name": "stdout",
     "output_type": "stream",
     "text": [
      "375610\n"
     ]
    }
   ],
   "source": [
    "output_data = DS.read_file(\"output_data\", QPHandle, bpz_file)\n",
    "n_objects = len(output_data.data)\n",
    "print(n_objects)\n",
    "#df = ens_to_df(output_data.data, 'bpz')\n",
    "#df['coord_ra'] = new_df['coord_ra']\n",
    "#df['coord_dec'] = new_df['coord_dec']\n",
    "#df"
   ]
  },
  {
   "cell_type": "code",
   "execution_count": null,
   "id": "de13d450",
   "metadata": {},
   "outputs": [],
   "source": []
  }
 ],
 "metadata": {
  "kernelspec": {
   "display_name": "rail_env2",
   "language": "python",
   "name": "python3"
  },
  "language_info": {
   "codemirror_mode": {
    "name": "ipython",
    "version": 3
   },
   "file_extension": ".py",
   "mimetype": "text/x-python",
   "name": "python",
   "nbconvert_exporter": "python",
   "pygments_lexer": "ipython3",
   "version": "3.13.3"
  }
 },
 "nbformat": 4,
 "nbformat_minor": 5
}
